{
 "cells": [
  {
   "cell_type": "code",
   "execution_count": 259,
   "metadata": {},
   "outputs": [],
   "source": [
    "import numpy as np\n",
    "import pandas as pd\n",
    "import matplotlib.pyplot as plt\n",
    "import statsmodels.formula.api as smf\n",
    "import statsmodels.api as sm\n",
    "import patsy\n",
    "from ISLP import load_data\n",
    "from sklearn.model_selection import train_test_split\n",
    "from sklearn.discriminant_analysis import (LinearDiscriminantAnalysis as LDA,QuadraticDiscriminantAnalysis as QDA)\n",
    "from sklearn.metrics import confusion_matrix\n",
    "from sklearn.naive_bayes import GaussianNB\n",
    "from sklearn.neighbors import KNeighborsClassifier\n",
    "from sklearn.linear_model import LogisticRegression\n",
    "from sklearn.preprocessing import StandardScaler\n",
    "from IPython.display import display, HTML\n",
    "\n",
    "\n"
   ]
  },
  {
   "cell_type": "code",
   "execution_count": null,
   "metadata": {},
   "outputs": [],
   "source": [
    "market = load_data('Smarket')\n",
    "market.columns\n",
    "smarket=market.drop('Direction', axis=1)\n",
    "correlation=smarket.corr()\n",
    "print(correlation[correlation>0.5])\n",
    "plt.scatter( market['Year'],market['Volume'])\n",
    "plt.show()\n",
    "smarket.plot(y='Volume')\n",
    "print(help(smf.logit))"
   ]
  },
  {
   "cell_type": "code",
   "execution_count": 222,
   "metadata": {},
   "outputs": [
    {
     "name": "stdout",
     "output_type": "stream",
     "text": [
      "Index(['Year', 'Lag1', 'Lag2', 'Lag3', 'Lag4', 'Lag5', 'Volume', 'Today',\n",
      "       'Direction'],\n",
      "      dtype='object')\n",
      "Direction ~ Lag1 + Lag2 + Lag3 + Lag4 + Lag5 + Volume\n",
      "Optimization terminated successfully.\n",
      "         Current function value: 0.691034\n",
      "         Iterations 4\n",
      "Direction       Down   Up\n",
      "direction_pred           \n",
      "0                145  141\n",
      "1                457  507\n"
     ]
    },
    {
     "data": {
      "text/plain": [
       "0.5216"
      ]
     },
     "execution_count": 222,
     "metadata": {},
     "output_type": "execute_result"
    }
   ],
   "source": [
    "print(market.columns)\n",
    "x= market.drop(['Direction','Today','Year'], axis=1)\n",
    "y= market['Direction'].map({'Up': 1,'Down':0})\n",
    "y= y.astype(int)\n",
    "df = pd.concat([x,y],axis=1)\n",
    "df= pd.DataFrame(df)\n",
    "\n",
    "formula = 'Direction ~ '+' + '.join(x.columns)\n",
    "print(formula)\n",
    "\n",
    "\n",
    "logit1= smf.logit(formula, data=df).fit()\n",
    "x=sm.add_constant(x)\n",
    "logit2= sm.GLM(y,x, family=sm.families.Binomial()).fit()\n",
    "# print(logit1.summary(),logit2.summary())\n",
    "# f no data set is supplied to the predict() function, then the probabilities \n",
    "# are computed for the train-ing data that was used to fit the logistic regression model.\n",
    "probs=logit2.get_prediction(x).summary_frame(0.05)\n",
    "# print(probs)\n",
    "probs['direction_pred']=np.where(probs['mean']>0.5,1,0)\n",
    "probs['direction_pred'].astype(int)\n",
    "# confusion matrix(actual, predicted)\n",
    "confusion_matrix= pd.crosstab(market['Direction'],probs['direction_pred'])\n",
    "print(confusion_matrix.T)\n",
    "np.mean(y == probs['direction_pred'])\n"
   ]
  },
  {
   "cell_type": "code",
   "execution_count": 203,
   "metadata": {},
   "outputs": [
    {
     "data": {
      "text/html": [
       "<div>\n",
       "<style scoped>\n",
       "    .dataframe tbody tr th:only-of-type {\n",
       "        vertical-align: middle;\n",
       "    }\n",
       "\n",
       "    .dataframe tbody tr th {\n",
       "        vertical-align: top;\n",
       "    }\n",
       "\n",
       "    .dataframe thead th {\n",
       "        text-align: right;\n",
       "    }\n",
       "</style>\n",
       "<table border=\"1\" class=\"dataframe\">\n",
       "  <thead>\n",
       "    <tr style=\"text-align: right;\">\n",
       "      <th></th>\n",
       "      <th>Year</th>\n",
       "      <th>Lag1</th>\n",
       "      <th>Lag2</th>\n",
       "      <th>Lag3</th>\n",
       "      <th>Lag4</th>\n",
       "      <th>Lag5</th>\n",
       "      <th>Volume</th>\n",
       "      <th>Today</th>\n",
       "      <th>Direction</th>\n",
       "    </tr>\n",
       "  </thead>\n",
       "  <tbody>\n",
       "    <tr>\n",
       "      <th>998</th>\n",
       "      <td>2005</td>\n",
       "      <td>-0.134</td>\n",
       "      <td>0.008</td>\n",
       "      <td>-0.007</td>\n",
       "      <td>0.715</td>\n",
       "      <td>-0.431</td>\n",
       "      <td>0.7869</td>\n",
       "      <td>-0.812</td>\n",
       "      <td>Down</td>\n",
       "    </tr>\n",
       "    <tr>\n",
       "      <th>999</th>\n",
       "      <td>2005</td>\n",
       "      <td>-0.812</td>\n",
       "      <td>-0.134</td>\n",
       "      <td>0.008</td>\n",
       "      <td>-0.007</td>\n",
       "      <td>0.715</td>\n",
       "      <td>1.5108</td>\n",
       "      <td>-1.167</td>\n",
       "      <td>Down</td>\n",
       "    </tr>\n",
       "    <tr>\n",
       "      <th>1000</th>\n",
       "      <td>2005</td>\n",
       "      <td>-1.167</td>\n",
       "      <td>-0.812</td>\n",
       "      <td>-0.134</td>\n",
       "      <td>0.008</td>\n",
       "      <td>-0.007</td>\n",
       "      <td>1.7210</td>\n",
       "      <td>-0.363</td>\n",
       "      <td>Down</td>\n",
       "    </tr>\n",
       "    <tr>\n",
       "      <th>1001</th>\n",
       "      <td>2005</td>\n",
       "      <td>-0.363</td>\n",
       "      <td>-1.167</td>\n",
       "      <td>-0.812</td>\n",
       "      <td>-0.134</td>\n",
       "      <td>0.008</td>\n",
       "      <td>1.7389</td>\n",
       "      <td>0.351</td>\n",
       "      <td>Up</td>\n",
       "    </tr>\n",
       "    <tr>\n",
       "      <th>1002</th>\n",
       "      <td>2005</td>\n",
       "      <td>0.351</td>\n",
       "      <td>-0.363</td>\n",
       "      <td>-1.167</td>\n",
       "      <td>-0.812</td>\n",
       "      <td>-0.134</td>\n",
       "      <td>1.5691</td>\n",
       "      <td>-0.143</td>\n",
       "      <td>Down</td>\n",
       "    </tr>\n",
       "  </tbody>\n",
       "</table>\n",
       "</div>"
      ],
      "text/plain": [
       "      Year   Lag1   Lag2   Lag3   Lag4   Lag5  Volume  Today Direction\n",
       "998   2005 -0.134  0.008 -0.007  0.715 -0.431  0.7869 -0.812      Down\n",
       "999   2005 -0.812 -0.134  0.008 -0.007  0.715  1.5108 -1.167      Down\n",
       "1000  2005 -1.167 -0.812 -0.134  0.008 -0.007  1.7210 -0.363      Down\n",
       "1001  2005 -0.363 -1.167 -0.812 -0.134  0.008  1.7389  0.351        Up\n",
       "1002  2005  0.351 -0.363 -1.167 -0.812 -0.134  1.5691 -0.143      Down"
      ]
     },
     "execution_count": 203,
     "metadata": {},
     "output_type": "execute_result"
    }
   ],
   "source": [
    "# Split the data into training and testing sets\n",
    "\n",
    "test_data1= np.where(market['Year'] >= 2005)[0]\n",
    "\n",
    "test_data1.shape\n",
    "type(test_data1)\n",
    "market.index\n",
    "# this approcah works for 1D array\n",
    "market.iloc[test_data1].head()\n",
    "\n",
    "# ~ only works for boolean data or numerical data\n",
    "test_data = market.iloc[~train_data]\n",
    "print(test_data.head())\n"
   ]
  },
  {
   "cell_type": "code",
   "execution_count": 281,
   "metadata": {},
   "outputs": [
    {
     "name": "stdout",
     "output_type": "stream",
     "text": [
      "       Lag1   Lag2   Lag3   Lag4   Lag5   Volume  Direction  Year\n",
      "0     0.381 -0.192 -2.624 -1.055  5.010  1.19130          1  2001\n",
      "1     0.959  0.381 -0.192 -2.624 -1.055  1.29650          1  2001\n",
      "2     1.032  0.959  0.381 -0.192 -2.624  1.41120          0  2001\n",
      "3    -0.623  1.032  0.959  0.381 -0.192  1.27600          1  2001\n",
      "4     0.614 -0.623  1.032  0.959  0.381  1.20570          1  2001\n",
      "...     ...    ...    ...    ...    ...      ...        ...   ...\n",
      "1245  0.422  0.252 -0.024 -0.584 -0.285  1.88850          1  2005\n",
      "1246  0.043  0.422  0.252 -0.024 -0.584  1.28581          0  2005\n",
      "1247 -0.955  0.043  0.422  0.252 -0.024  1.54047          1  2005\n",
      "1248  0.130 -0.955  0.043  0.422  0.252  1.42236          0  2005\n",
      "1249 -0.298  0.130 -0.955  0.043  0.422  1.38254          0  2005\n",
      "\n",
      "[1250 rows x 8 columns]\n",
      "Optimization terminated successfully.\n",
      "         Current function value: 0.691936\n",
      "         Iterations 4\n",
      "Direction   0   1\n",
      "col_0            \n",
      "0          77  97\n",
      "1          34  44\n"
     ]
    },
    {
     "data": {
      "text/html": [
       "<h3 style='color:red;'>true_pred &nbsp;&nbsp;&nbsp;&nbsp; false_pred</h3>"
      ],
      "text/plain": [
       "<IPython.core.display.HTML object>"
      ]
     },
     "metadata": {},
     "output_type": "display_data"
    },
    {
     "name": "stdout",
     "output_type": "stream",
     "text": [
      "0.4801587301587302 0.5198412698412699\n",
      "Optimization terminated successfully.\n",
      "         Current function value: 0.692085\n",
      "         Iterations 3\n",
      "Direction   0    1\n",
      "col_0             \n",
      "0          35   35\n",
      "1          76  106\n",
      "0.5595238095238095 0.44047619047619047\n"
     ]
    }
   ],
   "source": [
    "# splitting the data into training and testing sets\n",
    "df['Year'] = market['Year']\n",
    "print(df)\n",
    "\n",
    "train_data= df[df['Year'] < 2005]\n",
    "test_data= df[df['Year'] >= 2005]\n",
    "\n",
    "train_y, train_x = train_data['Direction'], train_data.drop(['Direction','Year'], axis=1)\n",
    "test_y, test_x = test_data['Direction'], test_data.drop(['Direction','Year'], axis=1)\n",
    "\n",
    "# fitting the model\n",
    "logit3 = smf.logit(formula, data=train_data).fit()\n",
    "logit3.summary()\n",
    "\n",
    "# predicting the test data\n",
    "pred2=logit3.predict(test_x)\n",
    "pred2['dir']= np.where(pred2>0.5,1,0)\n",
    "# confusion matrix\n",
    "confusion_matrix2 = pd.crosstab(test_y, pred2['dir']).T\n",
    "print(confusion_matrix2)\n",
    "true_pred, false_pred = np.mean(test_y==pred2['dir']), np.mean(test_y!=pred2['dir'])\n",
    "display(HTML(\"<h3 style='color:red;'>true_pred &nbsp;&nbsp;&nbsp;&nbsp; false_pred</h3>\"))\n",
    "\n",
    "print(true_pred, false_pred)\n",
    "\n",
    "# fitting with lag 1 and lag 2 only\n",
    "logit4= smf.logit('Direction~Lag1+Lag2',data=train_data).fit()\n",
    "prob_pred2=logit4.predict(test_x)\n",
    "prob_pred2=np.where(prob_pred2>0.5,1,0)\n",
    "\n",
    "# confusion_mat3\n",
    "confusion_mat3= pd.crosstab(test_y,prob_pred2).T\n",
    "print(confusion_mat3)\n",
    "\n",
    "# true_pred and false_pred\n",
    "true_pred2 = np.sum([confusion_mat3[0][0], confusion_mat3[1][1]])/np.sum(confusion_mat3.values)\n",
    "false_pred2 = np.sum([confusion_mat3[0][1], confusion_mat3[1][0]])/np.sum(confusion_mat3.values)\n",
    "print(true_pred2, false_pred2)\n",
    "\n",
    "# true_pred2, false_pred2= np.mean(confusion_mat3[0][0],confusion_mat3[1][1]),np.mean(confusion_mat3[0][1],confusion_mat3[0][1])\n"
   ]
  },
  {
   "cell_type": "code",
   "execution_count": 310,
   "metadata": {},
   "outputs": [
    {
     "name": "stdout",
     "output_type": "stream",
     "text": [
      "[[ 0.04279022  0.03389409]\n",
      " [-0.03954635 -0.03132544]]\n",
      "[0 1]\n",
      "[1 1 1 1 1 1 1 1 1 1 1 0 1 1 1 1 1 0 1 1 0 0 0 1 0 0 1 1 1 0 0 1 1 1 1 1 1\n",
      " 0 0 1 1 1 1 0 0 1 1 1 1 1 1 1 1 1 1 1 1 1 1 1 0 0 1 1 0 0 0 1 1 1 1 1 1 1\n",
      " 0 1 0 0 1 1 1 1 1 0 1 0 0 1 1 1 1 1 1 0 0 0 0 1 1 1 1 1 0 1 1 0 1 1 1 1 1\n",
      " 1 1 1 1 1 0 1 1 1 1 1 1 0 0 1 1 0 1 1 0 0 0 1 1 1 1 1 0 1 1 1 1 0 0 1 1 0\n",
      " 0 1 1 1 1 1 1 1 1 1 1 1 1 1 1 1 1 1 1 1 0 0 1 0 0 1 1 1 1 1 1 0 1 1 1 1 1\n",
      " 1 1 1 0 0 1 1 1 1 1 1 1 1 1 0 0 1 0 1 1 0 0 1 1 0 0 1 0 0 1 1 1 1 0 0 1 1\n",
      " 1 0 0 0 0 0 1 1 1 1 0 0 1 1 1 1 1 1 0 0 1 1 1 1 1 0 1 1 1 1]\n",
      "Direction   0    1\n",
      "col_0             \n",
      "0          35   35\n",
      "1          76  106\n"
     ]
    },
    {
     "data": {
      "text/plain": [
       "0"
      ]
     },
     "execution_count": 310,
     "metadata": {},
     "output_type": "execute_result"
    }
   ],
   "source": [
    "# lda\n",
    "# help(LDA)\n",
    "lda=LDA(store_covariance=True)\n",
    "lda.fit(train_x[['Lag1','Lag2']], train_y)\n",
    "print(lda.means_)\n",
    "print(lda.classes_)\n",
    "lda.priors_\n",
    "train_x.columns\n",
    "lda.scalings_\n",
    "predict_proba=lda.predict_proba(test_x[['Lag1','Lag2']])\n",
    "predict_lda=lda.predict(test_x[['Lag1','Lag2']])\n",
    "print(predict_lda)\n",
    "# confusion matrix\n",
    "confusion_matrix_lda= pd.crosstab(test_y, predict_lda).T\n",
    "print(confusion_matrix_lda)\n",
    "# setting threshold to 0.0\n",
    "predict_proba.shape\n",
    "predict_proba_6= np.where(predict_proba[:,1]>0.9,1,0)\n",
    "predict_proba_6.sum()\n"
   ]
  },
  {
   "cell_type": "code",
   "execution_count": 325,
   "metadata": {},
   "outputs": [
    {
     "name": "stdout",
     "output_type": "stream",
     "text": [
      "[[ 0.04279022  0.03389409]\n",
      " [-0.03954635 -0.03132544]]\n",
      "[1 1 1 1 1 1 1 1 1 1 1 0 1 1 1 1 1 0 1 1 1 0 0 1 0 0 1 1 1 0 1 1 1 1 1 1 1\n",
      " 0 0 1 1 1 1 0 0 1 1 1 1 1 1 1 1 1 1 1 1 1 1 1 0 0 1 1 1 1 1 1 1 1 1 1 1 1\n",
      " 0 1 0 0 1 1 1 1 1 0 1 0 0 1 1 1 1 1 1 1 0 0 0 1 1 1 1 1 1 1 1 0 1 1 1 1 1\n",
      " 1 1 1 1 1 1 1 1 1 1 1 1 0 1 1 1 0 1 1 0 0 1 1 1 1 1 1 0 1 1 1 1 1 0 1 1 1\n",
      " 1 1 1 1 1 1 1 1 1 1 1 1 1 1 1 1 1 1 1 1 1 0 1 0 0 1 1 1 1 1 1 0 1 1 1 1 1\n",
      " 1 1 1 0 0 1 1 1 1 1 1 1 1 1 1 0 1 0 1 1 0 0 1 1 0 0 1 1 0 1 1 1 1 0 0 1 1\n",
      " 1 0 0 0 0 1 1 1 1 1 1 0 1 1 1 1 1 1 1 0 1 1 1 1 1 1 1 1 1 1]\n",
      "Direction   0    1\n",
      "col_0             \n",
      "0          30   20\n",
      "1          81  121\n"
     ]
    },
    {
     "data": {
      "text/plain": [
       "[array([1.56294495, 1.47927279]), array([1.53455065, 1.47272326])]"
      ]
     },
     "execution_count": 325,
     "metadata": {},
     "output_type": "execute_result"
    }
   ],
   "source": [
    "# quadratic discrimant analysis\n",
    "qda = QDA(store_covariance=True)\n",
    "qda.fit(train_x[['Lag1','Lag2']], train_y)\n",
    "print(qda.means_)\n",
    "qda.priors_\n",
    "qda.covariance_[0]\n",
    "qda_predict=qda.predict(test_x[['Lag1','Lag2']])\n",
    "print(qda_predict)\n",
    "confusion_mat4=pd.crosstab(test_y,qda_predict).T\n",
    "print(confusion_mat4)\n",
    "true_pred3 = np.sum(np.diag(confusion_mat4.values))/(np.sum(confusion_mat4.values))\n",
    "true_pred3\n",
    "qda.scalings_"
   ]
  },
  {
   "cell_type": "code",
   "execution_count": 382,
   "metadata": {},
   "outputs": [
    {
     "name": "stdout",
     "output_type": "stream",
     "text": [
      "[[ 0.04279022  0.03389409]\n",
      " [-0.03954635 -0.03132544]]\n",
      "[[1.50355429 1.53246749]\n",
      " [1.51401364 1.48732877]]\n",
      "Lag1    0.381\n",
      "Lag2   -0.192\n",
      "dtype: float64\n",
      "<class 'pandas.core.series.Series'>\n"
     ]
    },
    {
     "data": {
      "text/html": [
       "<div>\n",
       "<style scoped>\n",
       "    .dataframe tbody tr th:only-of-type {\n",
       "        vertical-align: middle;\n",
       "    }\n",
       "\n",
       "    .dataframe tbody tr th {\n",
       "        vertical-align: top;\n",
       "    }\n",
       "\n",
       "    .dataframe thead th {\n",
       "        text-align: right;\n",
       "    }\n",
       "</style>\n",
       "<table border=\"1\" class=\"dataframe\">\n",
       "  <thead>\n",
       "    <tr style=\"text-align: right;\">\n",
       "      <th>Direction</th>\n",
       "      <th>0</th>\n",
       "      <th>1</th>\n",
       "    </tr>\n",
       "    <tr>\n",
       "      <th>col_0</th>\n",
       "      <th></th>\n",
       "      <th></th>\n",
       "    </tr>\n",
       "  </thead>\n",
       "  <tbody>\n",
       "    <tr>\n",
       "      <th>0</th>\n",
       "      <td>29</td>\n",
       "      <td>20</td>\n",
       "    </tr>\n",
       "    <tr>\n",
       "      <th>1</th>\n",
       "      <td>82</td>\n",
       "      <td>121</td>\n",
       "    </tr>\n",
       "  </tbody>\n",
       "</table>\n",
       "</div>"
      ],
      "text/plain": [
       "Direction   0    1\n",
       "col_0             \n",
       "0          29   20\n",
       "1          82  121"
      ]
     },
     "execution_count": 382,
     "metadata": {},
     "output_type": "execute_result"
    }
   ],
   "source": [
    "# naive bayes\n",
    "nb= GaussianNB()\n",
    "nb.fit(train_x[['Lag1','Lag2']], train_y)\n",
    "nb.classes_\n",
    "nb.class_prior_\n",
    "# nb.theta_ = mean of each class\n",
    "print(nb.theta_)\n",
    "print(nb.var_)\n",
    "indexofy=train_y.loc[train_y==0]\n",
    "print(train_x.loc[indexofy,['Lag1','Lag2']].mean())\n",
    "\n",
    "print(type(indexofy))\n",
    "\n",
    "pred_nb=nb.predict(test_x[['Lag1','Lag2']])\n",
    "# confusion_matrix\n",
    "confusion_matrix_nb=pd.crosstab(test_y,pred_nb).T\n",
    "confusion_matrix_nb"
   ]
  },
  {
   "cell_type": "code",
   "execution_count": 386,
   "metadata": {},
   "outputs": [
    {
     "name": "stdout",
     "output_type": "stream",
     "text": [
      "Direction   0   1\n",
      "col_0            \n",
      "0          48  55\n",
      "1          63  86\n"
     ]
    },
    {
     "data": {
      "text/plain": [
       "0.5317460317460317"
      ]
     },
     "execution_count": 386,
     "metadata": {},
     "output_type": "execute_result"
    }
   ],
   "source": [
    "# knearest classifier\n",
    "knn= KNeighborsClassifier(n_neighbors=3)\n",
    "train_x1= train_x[['Lag1','Lag2']]\n",
    "knn.fit(train_x1, train_y)\n",
    "pred_knn=knn.predict(test_x[['Lag1','Lag2']])\n",
    "# confusion matrix\n",
    "confusion_matrix_knn=pd.crosstab(test_y,pred_knn).T\n",
    "print(confusion_matrix_knn)\n",
    "true_pred_knn= np.sum(np.diag(confusion_matrix_knn.values))/(np.sum(confusion_matrix_knn.values))\n",
    "true_pred_knn"
   ]
  },
  {
   "cell_type": "code",
   "execution_count": null,
   "metadata": {},
   "outputs": [
    {
     "name": "stdout",
     "output_type": "stream",
     "text": [
      "Purchase   No  Yes\n",
      "col_0             \n",
      "No        880   58\n",
      "Yes        53    9\n",
      "0.111 0.889\n"
     ]
    }
   ],
   "source": [
    "# k nearest neighbours on caravan dataset\n",
    "\n",
    "caravan=load_data('Caravan')\n",
    "caravan.columns\n",
    "caravan['Purchase'].value_counts()\n",
    "feature= caravan.drop(['Purchase'], axis=1)\n",
    "scaler = StandardScaler(with_mean=True, with_std=True,copy=True)\n",
    "scaler.fit(feature)\n",
    "scaled_feature=scaler.transform(feature)\n",
    "scaled_feature.var(axis=0)\n",
    "scaled_feature.mean(axis=1)\n",
    "# train_test_split\n",
    "(traink_x,testk_x,traink_y,testk_y)= train_test_split(scaled_feature,caravan['Purchase'],test_size=1000,random_state=0 )\n",
    "knn1 = KNeighborsClassifier(n_neighbors=1)\n",
    "knn1.fit(traink_x,traink_y)\n",
    "pred_knn1=knn1.predict(testk_x)\n",
    "# confusion matrix\n",
    "confusion_matrix_knn1=pd.crosstab(testk_y,pred_knn1).T\n",
    "print(confusion_matrix_knn1)\n",
    "# error rate\n",
    "error_rate=np.mean(testk_y!=pred_knn1)\n",
    "correct_rate=1-error_rate\n",
    "print(error_rate,correct_rate)\n"
   ]
  },
  {
   "cell_type": "code",
   "execution_count": 429,
   "metadata": {},
   "outputs": [
    {
     "data": {
      "text/plain": [
       "<matplotlib.lines.Line2D at 0x31ee11bd0>"
      ]
     },
     "execution_count": 429,
     "metadata": {},
     "output_type": "execute_result"
    },
    {
     "data": {
      "image/png": "[encoded data removed]",
      "text/plain": [
       "<Figure size 640x480 with 1 Axes>"
      ]
     },
     "metadata": {},
     "output_type": "display_data"
    }
   ],
   "source": [
    "# tuning parameters\n",
    "A=[]\n",
    "B=[]\n",
    "for k in range(1,20):\n",
    "    scaler.fit(traink_x)\n",
    "    scaled_feature2= scaler.transform(traink_x)\n",
    "    knn2 = KNeighborsClassifier(n_neighbors=k)\n",
    "    knn2.fit(scaled_feature2,traink_y)\n",
    "    pred_knn2=knn2.predict(testk_x)\n",
    "    error_rate=np.mean(testk_y!=pred_knn2)\n",
    "    correct_rate=1-error_rate\n",
    "    B.append(correct_rate)\n",
    "    A.append(error_rate)\n",
    "plt.plot(range(1,20),A);  \n",
    "plt.axhline(min(A) , color='r', linestyle='dashed')\n"
   ]
  },
  {
   "cell_type": "code",
   "execution_count": 450,
   "metadata": {},
   "outputs": [
    {
     "name": "stdout",
     "output_type": "stream",
     "text": [
      "row_0      No  Yes \n",
      "Purchase           \n",
      "No        913    20\n",
      "Yes        58     9\n"
     ]
    }
   ],
   "source": [
    "# comparison to logistic regression\n",
    "# LogisticRegression from sklearn.linear_model\n",
    "logit5 = LogisticRegression(C=1e9, solver='liblinear')\n",
    "# help(LogisticRegression)\n",
    "logit5.fit(traink_x,traink_y)\n",
    "pred_logit=logit5.predict_proba(testk_x)\n",
    "# print(pred_logit)\n",
    "logit_labels = np.where( pred_logit [: ,1] > 0.25 , 'Yes ', 'No')\n",
    "# print(type(logit_labels))\n",
    "# confusion matrix\n",
    "confusion_matrix_logit5=pd.crosstab(logit_labels,testk_y).T\n",
    "print(confusion_matrix_logit5)"
   ]
  },
  {
   "cell_type": "code",
   "execution_count": 480,
   "metadata": {},
   "outputs": [
    {
     "name": "stdout",
     "output_type": "stream",
     "text": [
      "Index(['season', 'mnth', 'day', 'hr', 'holiday', 'weekday', 'workingday',\n",
      "       'weathersit', 'temp', 'atemp', 'hum', 'windspeed', 'casual',\n",
      "       'registered', 'bikers'],\n",
      "      dtype='object')\n",
      "0       16\n",
      "1       40\n",
      "2       32\n",
      "3       13\n",
      "4        1\n",
      "        ..\n",
      "8640    92\n",
      "8641    71\n",
      "8642    52\n",
      "8643    38\n",
      "8644    31\n",
      "Name: bikers, Length: 8645, dtype: int64\n"
     ]
    }
   ],
   "source": [
    "# linear and poisson regression\n",
    "bike = load_data('Bikeshare')\n",
    "print(bike.columns)\n",
    "bike.dtypes\n",
    "feat=bike[['mnth','hr','workingday','temp','weathersit']]\n",
    "res=bike['bikers']\n",
    "res.name='bikers'\n",
    "formula='bikers~'+'+'.join(feat.columns)\n",
    "# data=pd.DataFrame(feat,res['bikers'])\n",
    "data\n",
    "# linerar_model= smf.ols(formula, data=pd.DataFrame(feat,res)).fit()\n",
    "print(res)\n"
   ]
  }
 ],
 "metadata": {
  "kernelspec": {
   "display_name": "datascience",
   "language": "python",
   "name": "python3"
  },
  "language_info": {
   "codemirror_mode": {
    "name": "ipython",
    "version": 3
   },
   "file_extension": ".py",
   "mimetype": "text/x-python",
   "name": "python",
   "nbconvert_exporter": "python",
   "pygments_lexer": "ipython3",
   "version": "3.11.11"
  }
 },
 "nbformat": 4,
 "nbformat_minor": 2
}
